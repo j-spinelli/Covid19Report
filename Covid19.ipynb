{
  "cells": [
    {
      "cell_type": "code",
      "execution_count": 1,
      "metadata": {
        "tags": [],
        "trusted": true
      },
      "outputs": [],
      "source": [
        "import pandas as pd\n",
        "from matplotlib import pyplot as plt"
      ]
    },
    {
      "cell_type": "markdown",
      "metadata": {},
      "source": [
        "# 1. Introducción"
      ]
    },
    {
      "attachments": {},
      "cell_type": "markdown",
      "metadata": {},
      "source": [
        "El siguiente informe pretende brindar cierta información respecto de la evolución en los casos de Covid 19 a lo largo del mundo. Para esto utilizaremos un dataset publicado en kaggle con un total de 49068 valores. El mismo ofrece datos distribuidos por pais y región entre enero del 2020 a julio del 2020."
      ]
    },
    {
      "cell_type": "markdown",
      "metadata": {},
      "source": [
        "# 2 Configuración, limpieza y manipulación de datos"
      ]
    },
    {
      "cell_type": "markdown",
      "metadata": {},
      "source": [
        "Luego de introducidos los datos se procede a realizar una primera aproximación de los mismos:"
      ]
    },
    {
      "cell_type": "code",
      "execution_count": 2,
      "metadata": {
        "tags": [],
        "trusted": true
      },
      "outputs": [],
      "source": [
        "covid_dataframe = pd.read_csv('covid_19.csv')"
      ]
    },
    {
      "cell_type": "code",
      "execution_count": 3,
      "metadata": {
        "tags": [],
        "trusted": true
      },
      "outputs": [
        {
          "data": {
            "text/html": [
              "<div>\n",
              "<style scoped>\n",
              "    .dataframe tbody tr th:only-of-type {\n",
              "        vertical-align: middle;\n",
              "    }\n",
              "\n",
              "    .dataframe tbody tr th {\n",
              "        vertical-align: top;\n",
              "    }\n",
              "\n",
              "    .dataframe thead th {\n",
              "        text-align: right;\n",
              "    }\n",
              "</style>\n",
              "<table border=\"1\" class=\"dataframe\">\n",
              "  <thead>\n",
              "    <tr style=\"text-align: right;\">\n",
              "      <th></th>\n",
              "      <th>Province/State</th>\n",
              "      <th>Country/Region</th>\n",
              "      <th>Lat</th>\n",
              "      <th>Long</th>\n",
              "      <th>Date</th>\n",
              "      <th>Confirmed</th>\n",
              "      <th>Deaths</th>\n",
              "      <th>Recovered</th>\n",
              "      <th>Active</th>\n",
              "      <th>WHO Region</th>\n",
              "    </tr>\n",
              "  </thead>\n",
              "  <tbody>\n",
              "    <tr>\n",
              "      <th>0</th>\n",
              "      <td>NaN</td>\n",
              "      <td>Afghanistan</td>\n",
              "      <td>33.93911</td>\n",
              "      <td>67.709953</td>\n",
              "      <td>2020-01-22</td>\n",
              "      <td>0</td>\n",
              "      <td>0</td>\n",
              "      <td>0</td>\n",
              "      <td>0</td>\n",
              "      <td>Eastern Mediterranean</td>\n",
              "    </tr>\n",
              "    <tr>\n",
              "      <th>1</th>\n",
              "      <td>NaN</td>\n",
              "      <td>Albania</td>\n",
              "      <td>41.15330</td>\n",
              "      <td>20.168300</td>\n",
              "      <td>2020-01-22</td>\n",
              "      <td>0</td>\n",
              "      <td>0</td>\n",
              "      <td>0</td>\n",
              "      <td>0</td>\n",
              "      <td>Europe</td>\n",
              "    </tr>\n",
              "    <tr>\n",
              "      <th>2</th>\n",
              "      <td>NaN</td>\n",
              "      <td>Algeria</td>\n",
              "      <td>28.03390</td>\n",
              "      <td>1.659600</td>\n",
              "      <td>2020-01-22</td>\n",
              "      <td>0</td>\n",
              "      <td>0</td>\n",
              "      <td>0</td>\n",
              "      <td>0</td>\n",
              "      <td>Africa</td>\n",
              "    </tr>\n",
              "    <tr>\n",
              "      <th>3</th>\n",
              "      <td>NaN</td>\n",
              "      <td>Andorra</td>\n",
              "      <td>42.50630</td>\n",
              "      <td>1.521800</td>\n",
              "      <td>2020-01-22</td>\n",
              "      <td>0</td>\n",
              "      <td>0</td>\n",
              "      <td>0</td>\n",
              "      <td>0</td>\n",
              "      <td>Europe</td>\n",
              "    </tr>\n",
              "    <tr>\n",
              "      <th>4</th>\n",
              "      <td>NaN</td>\n",
              "      <td>Angola</td>\n",
              "      <td>-11.20270</td>\n",
              "      <td>17.873900</td>\n",
              "      <td>2020-01-22</td>\n",
              "      <td>0</td>\n",
              "      <td>0</td>\n",
              "      <td>0</td>\n",
              "      <td>0</td>\n",
              "      <td>Africa</td>\n",
              "    </tr>\n",
              "    <tr>\n",
              "      <th>5</th>\n",
              "      <td>NaN</td>\n",
              "      <td>Antigua and Barbuda</td>\n",
              "      <td>17.06080</td>\n",
              "      <td>-61.796400</td>\n",
              "      <td>2020-01-22</td>\n",
              "      <td>0</td>\n",
              "      <td>0</td>\n",
              "      <td>0</td>\n",
              "      <td>0</td>\n",
              "      <td>Americas</td>\n",
              "    </tr>\n",
              "    <tr>\n",
              "      <th>6</th>\n",
              "      <td>NaN</td>\n",
              "      <td>Argentina</td>\n",
              "      <td>-38.41610</td>\n",
              "      <td>-63.616700</td>\n",
              "      <td>2020-01-22</td>\n",
              "      <td>0</td>\n",
              "      <td>0</td>\n",
              "      <td>0</td>\n",
              "      <td>0</td>\n",
              "      <td>Americas</td>\n",
              "    </tr>\n",
              "    <tr>\n",
              "      <th>7</th>\n",
              "      <td>NaN</td>\n",
              "      <td>Armenia</td>\n",
              "      <td>40.06910</td>\n",
              "      <td>45.038200</td>\n",
              "      <td>2020-01-22</td>\n",
              "      <td>0</td>\n",
              "      <td>0</td>\n",
              "      <td>0</td>\n",
              "      <td>0</td>\n",
              "      <td>Europe</td>\n",
              "    </tr>\n",
              "    <tr>\n",
              "      <th>8</th>\n",
              "      <td>Australian Capital Territory</td>\n",
              "      <td>Australia</td>\n",
              "      <td>-35.47350</td>\n",
              "      <td>149.012400</td>\n",
              "      <td>2020-01-22</td>\n",
              "      <td>0</td>\n",
              "      <td>0</td>\n",
              "      <td>0</td>\n",
              "      <td>0</td>\n",
              "      <td>Western Pacific</td>\n",
              "    </tr>\n",
              "    <tr>\n",
              "      <th>9</th>\n",
              "      <td>New South Wales</td>\n",
              "      <td>Australia</td>\n",
              "      <td>-33.86880</td>\n",
              "      <td>151.209300</td>\n",
              "      <td>2020-01-22</td>\n",
              "      <td>0</td>\n",
              "      <td>0</td>\n",
              "      <td>0</td>\n",
              "      <td>0</td>\n",
              "      <td>Western Pacific</td>\n",
              "    </tr>\n",
              "  </tbody>\n",
              "</table>\n",
              "</div>"
            ],
            "text/plain": [
              "                 Province/State       Country/Region       Lat        Long  \\\n",
              "0                           NaN          Afghanistan  33.93911   67.709953   \n",
              "1                           NaN              Albania  41.15330   20.168300   \n",
              "2                           NaN              Algeria  28.03390    1.659600   \n",
              "3                           NaN              Andorra  42.50630    1.521800   \n",
              "4                           NaN               Angola -11.20270   17.873900   \n",
              "5                           NaN  Antigua and Barbuda  17.06080  -61.796400   \n",
              "6                           NaN            Argentina -38.41610  -63.616700   \n",
              "7                           NaN              Armenia  40.06910   45.038200   \n",
              "8  Australian Capital Territory            Australia -35.47350  149.012400   \n",
              "9               New South Wales            Australia -33.86880  151.209300   \n",
              "\n",
              "         Date  Confirmed  Deaths  Recovered  Active             WHO Region  \n",
              "0  2020-01-22          0       0          0       0  Eastern Mediterranean  \n",
              "1  2020-01-22          0       0          0       0                 Europe  \n",
              "2  2020-01-22          0       0          0       0                 Africa  \n",
              "3  2020-01-22          0       0          0       0                 Europe  \n",
              "4  2020-01-22          0       0          0       0                 Africa  \n",
              "5  2020-01-22          0       0          0       0               Americas  \n",
              "6  2020-01-22          0       0          0       0               Americas  \n",
              "7  2020-01-22          0       0          0       0                 Europe  \n",
              "8  2020-01-22          0       0          0       0        Western Pacific  \n",
              "9  2020-01-22          0       0          0       0        Western Pacific  "
            ]
          },
          "execution_count": 3,
          "metadata": {},
          "output_type": "execute_result"
        }
      ],
      "source": [
        "covid_dataframe.head(10)"
      ]
    },
    {
      "attachments": {},
      "cell_type": "markdown",
      "metadata": {},
      "source": [
        "Lo primero que se puede observar es que nuestros datos cuentan con un total de diez (10) columnas. De estas existen tres que no proveen información relevante: \"Lat\" y \"Long\" y \"WHO Region. A su vez, los nombres de las mismas se encuentran complejizados y en ingles. Con lo cual, se procederá a renombrar las mismas. "
      ]
    },
    {
      "cell_type": "code",
      "execution_count": 4,
      "metadata": {
        "tags": [],
        "trusted": true
      },
      "outputs": [],
      "source": [
        "covid_dataframe.drop(['Lat', 'Long', 'WHO Region'], axis=1, inplace=True)\n",
        "covid_dataframe.rename(columns={'Date':'Fecha de observacion',\n",
        "                                'Province/State':'Estado',\n",
        "                                'Country/Region':'País', \n",
        "                                'Confirmed': 'Confirmados',\n",
        "                                'Deaths':'Muertes',\n",
        "                                'Recovered':'Recuperados', \n",
        "                                'Active':'Activos'\n",
        "                                                           }, inplace=True)\n",
        "covid_dataframe['Fecha de observacion'] = pd.to_datetime(covid_dataframe['Fecha de observacion'])"
      ]
    },
    {
      "cell_type": "code",
      "execution_count": 5,
      "metadata": {
        "tags": []
      },
      "outputs": [
        {
          "data": {
            "text/html": [
              "<div>\n",
              "<style scoped>\n",
              "    .dataframe tbody tr th:only-of-type {\n",
              "        vertical-align: middle;\n",
              "    }\n",
              "\n",
              "    .dataframe tbody tr th {\n",
              "        vertical-align: top;\n",
              "    }\n",
              "\n",
              "    .dataframe thead th {\n",
              "        text-align: right;\n",
              "    }\n",
              "</style>\n",
              "<table border=\"1\" class=\"dataframe\">\n",
              "  <thead>\n",
              "    <tr style=\"text-align: right;\">\n",
              "      <th></th>\n",
              "      <th>Estado</th>\n",
              "      <th>País</th>\n",
              "      <th>Fecha de observacion</th>\n",
              "      <th>Confirmados</th>\n",
              "      <th>Muertes</th>\n",
              "      <th>Recuperados</th>\n",
              "      <th>Activos</th>\n",
              "    </tr>\n",
              "  </thead>\n",
              "  <tbody>\n",
              "    <tr>\n",
              "      <th>0</th>\n",
              "      <td>NaN</td>\n",
              "      <td>Afghanistan</td>\n",
              "      <td>2020-01-22</td>\n",
              "      <td>0</td>\n",
              "      <td>0</td>\n",
              "      <td>0</td>\n",
              "      <td>0</td>\n",
              "    </tr>\n",
              "    <tr>\n",
              "      <th>1</th>\n",
              "      <td>NaN</td>\n",
              "      <td>Albania</td>\n",
              "      <td>2020-01-22</td>\n",
              "      <td>0</td>\n",
              "      <td>0</td>\n",
              "      <td>0</td>\n",
              "      <td>0</td>\n",
              "    </tr>\n",
              "    <tr>\n",
              "      <th>2</th>\n",
              "      <td>NaN</td>\n",
              "      <td>Algeria</td>\n",
              "      <td>2020-01-22</td>\n",
              "      <td>0</td>\n",
              "      <td>0</td>\n",
              "      <td>0</td>\n",
              "      <td>0</td>\n",
              "    </tr>\n",
              "    <tr>\n",
              "      <th>3</th>\n",
              "      <td>NaN</td>\n",
              "      <td>Andorra</td>\n",
              "      <td>2020-01-22</td>\n",
              "      <td>0</td>\n",
              "      <td>0</td>\n",
              "      <td>0</td>\n",
              "      <td>0</td>\n",
              "    </tr>\n",
              "    <tr>\n",
              "      <th>4</th>\n",
              "      <td>NaN</td>\n",
              "      <td>Angola</td>\n",
              "      <td>2020-01-22</td>\n",
              "      <td>0</td>\n",
              "      <td>0</td>\n",
              "      <td>0</td>\n",
              "      <td>0</td>\n",
              "    </tr>\n",
              "    <tr>\n",
              "      <th>5</th>\n",
              "      <td>NaN</td>\n",
              "      <td>Antigua and Barbuda</td>\n",
              "      <td>2020-01-22</td>\n",
              "      <td>0</td>\n",
              "      <td>0</td>\n",
              "      <td>0</td>\n",
              "      <td>0</td>\n",
              "    </tr>\n",
              "    <tr>\n",
              "      <th>6</th>\n",
              "      <td>NaN</td>\n",
              "      <td>Argentina</td>\n",
              "      <td>2020-01-22</td>\n",
              "      <td>0</td>\n",
              "      <td>0</td>\n",
              "      <td>0</td>\n",
              "      <td>0</td>\n",
              "    </tr>\n",
              "    <tr>\n",
              "      <th>7</th>\n",
              "      <td>NaN</td>\n",
              "      <td>Armenia</td>\n",
              "      <td>2020-01-22</td>\n",
              "      <td>0</td>\n",
              "      <td>0</td>\n",
              "      <td>0</td>\n",
              "      <td>0</td>\n",
              "    </tr>\n",
              "    <tr>\n",
              "      <th>8</th>\n",
              "      <td>Australian Capital Territory</td>\n",
              "      <td>Australia</td>\n",
              "      <td>2020-01-22</td>\n",
              "      <td>0</td>\n",
              "      <td>0</td>\n",
              "      <td>0</td>\n",
              "      <td>0</td>\n",
              "    </tr>\n",
              "    <tr>\n",
              "      <th>9</th>\n",
              "      <td>New South Wales</td>\n",
              "      <td>Australia</td>\n",
              "      <td>2020-01-22</td>\n",
              "      <td>0</td>\n",
              "      <td>0</td>\n",
              "      <td>0</td>\n",
              "      <td>0</td>\n",
              "    </tr>\n",
              "  </tbody>\n",
              "</table>\n",
              "</div>"
            ],
            "text/plain": [
              "                         Estado                 País Fecha de observacion  \\\n",
              "0                           NaN          Afghanistan           2020-01-22   \n",
              "1                           NaN              Albania           2020-01-22   \n",
              "2                           NaN              Algeria           2020-01-22   \n",
              "3                           NaN              Andorra           2020-01-22   \n",
              "4                           NaN               Angola           2020-01-22   \n",
              "5                           NaN  Antigua and Barbuda           2020-01-22   \n",
              "6                           NaN            Argentina           2020-01-22   \n",
              "7                           NaN              Armenia           2020-01-22   \n",
              "8  Australian Capital Territory            Australia           2020-01-22   \n",
              "9               New South Wales            Australia           2020-01-22   \n",
              "\n",
              "   Confirmados  Muertes  Recuperados  Activos  \n",
              "0            0        0            0        0  \n",
              "1            0        0            0        0  \n",
              "2            0        0            0        0  \n",
              "3            0        0            0        0  \n",
              "4            0        0            0        0  \n",
              "5            0        0            0        0  \n",
              "6            0        0            0        0  \n",
              "7            0        0            0        0  \n",
              "8            0        0            0        0  \n",
              "9            0        0            0        0  "
            ]
          },
          "execution_count": 5,
          "metadata": {},
          "output_type": "execute_result"
        }
      ],
      "source": [
        "covid_dataframe.head(10)"
      ]
    },
    {
      "cell_type": "code",
      "execution_count": 6,
      "metadata": {},
      "outputs": [
        {
          "name": "stdout",
          "output_type": "stream",
          "text": [
            "<class 'pandas.core.frame.DataFrame'>\n",
            "RangeIndex: 49068 entries, 0 to 49067\n",
            "Data columns (total 7 columns):\n",
            " #   Column                Non-Null Count  Dtype         \n",
            "---  ------                --------------  -----         \n",
            " 0   Estado                14664 non-null  object        \n",
            " 1   País                  49068 non-null  object        \n",
            " 2   Fecha de observacion  49068 non-null  datetime64[ns]\n",
            " 3   Confirmados           49068 non-null  int64         \n",
            " 4   Muertes               49068 non-null  int64         \n",
            " 5   Recuperados           49068 non-null  int64         \n",
            " 6   Activos               49068 non-null  int64         \n",
            "dtypes: datetime64[ns](1), int64(4), object(2)\n",
            "memory usage: 2.6+ MB\n"
          ]
        }
      ],
      "source": [
        "covid_dataframe.info()"
      ]
    },
    {
      "attachments": {},
      "cell_type": "markdown",
      "metadata": {},
      "source": [
        "Una vez realizadas estas modificaciones se observa que la columna \"Estado\" posee varios datos vacios. Este faltante de información se verifica mediante el metodo info(), que nos muestra que hay unicamente 14664 valores no nulo en dicha coluimna. Por lo tanto, se procederá a llenar los mismos con la leyenda \"NA\" para visualizar dicha falta de información."
      ]
    },
    {
      "cell_type": "code",
      "execution_count": 7,
      "metadata": {
        "trusted": true
      },
      "outputs": [],
      "source": [
        "covid_df_filledNA = covid_dataframe.fillna('NA')"
      ]
    },
    {
      "cell_type": "code",
      "execution_count": 8,
      "metadata": {
        "tags": [],
        "trusted": true
      },
      "outputs": [
        {
          "name": "stdout",
          "output_type": "stream",
          "text": [
            "<class 'pandas.core.frame.DataFrame'>\n",
            "RangeIndex: 49068 entries, 0 to 49067\n",
            "Data columns (total 7 columns):\n",
            " #   Column                Non-Null Count  Dtype         \n",
            "---  ------                --------------  -----         \n",
            " 0   Estado                49068 non-null  object        \n",
            " 1   País                  49068 non-null  object        \n",
            " 2   Fecha de observacion  49068 non-null  datetime64[ns]\n",
            " 3   Confirmados           49068 non-null  int64         \n",
            " 4   Muertes               49068 non-null  int64         \n",
            " 5   Recuperados           49068 non-null  int64         \n",
            " 6   Activos               49068 non-null  int64         \n",
            "dtypes: datetime64[ns](1), int64(4), object(2)\n",
            "memory usage: 2.6+ MB\n"
          ]
        }
      ],
      "source": [
        "covid_df_filledNA.info()"
      ]
    },
    {
      "cell_type": "markdown",
      "metadata": {},
      "source": [
        "# 3 Analisis de los datos"
      ]
    },
    {
      "attachments": {},
      "cell_type": "markdown",
      "metadata": {},
      "source": [
        "Una vez realizadas las modificaciones pertinentes, se procede a realizar el respectivo analisis de los datos:"
      ]
    },
    {
      "attachments": {},
      "cell_type": "markdown",
      "metadata": {},
      "source": [
        "## 3.1 Casos confirmados, muertes y recuperaciones a lo largo del tiempo"
      ]
    },
    {
      "attachments": {},
      "cell_type": "markdown",
      "metadata": {},
      "source": [
        "En primer lugar, se verificará la cantidad de casos confirmados, las muertes y recuperaciones a lo largo del tiempo. Para esto se utilizará una muestra de los paises con mas de cien (100) casos confirmados."
      ]
    },
    {
      "cell_type": "code",
      "execution_count": 9,
      "metadata": {
        "tags": []
      },
      "outputs": [],
      "source": [
        "covid_dataframe_by_Country_and_Date = covid_df_filledNA.groupby(['País', 'Fecha de observacion'])[['País','Fecha de observacion','Confirmados', 'Muertes', 'Recuperados']].sum().reset_index()"
      ]
    },
    {
      "cell_type": "code",
      "execution_count": 10,
      "metadata": {
        "tags": []
      },
      "outputs": [],
      "source": [
        "covid_dataframe_by_confirmed_over_100 = covid_dataframe_by_Country_and_Date[covid_dataframe_by_Country_and_Date['Confirmados'] > 100]"
      ]
    },
    {
      "cell_type": "code",
      "execution_count": 11,
      "metadata": {
        "tags": []
      },
      "outputs": [],
      "source": [
        "covid_dataframe_by_Date = covid_dataframe_by_confirmed_over_100.groupby(['Fecha de observacion'])[['Fecha de observacion','Confirmados', 'Muertes', 'Recuperados']].sum().reset_index()"
      ]
    },
    {
      "cell_type": "code",
      "execution_count": 12,
      "metadata": {
        "tags": []
      },
      "outputs": [
        {
          "data": {
            "image/png": "[encoded data removed]",
            "text/plain": [
              "<Figure size 720x432 with 1 Axes>"
            ]
          },
          "metadata": {
            "needs_background": "light"
          },
          "output_type": "display_data"
        }
      ],
      "source": [
        "plt.figure(figsize=(10,6))\n",
        "plt.scatter(covid_dataframe_by_Date['Fecha de observacion'], covid_dataframe_by_Date['Confirmados'], color='blue',linewidths=2)\n",
        "plt.scatter(covid_dataframe_by_Date['Fecha de observacion'], covid_dataframe_by_Date['Muertes'], color='red',linewidths=2)\n",
        "plt.scatter(covid_dataframe_by_Date['Fecha de observacion'], covid_dataframe_by_Date['Recuperados'], color='green',linewidths=3)\n",
        "plt.xlabel('Mes de observación')\n",
        "plt.xlim(pd.Timestamp('2020-01-22'), pd.Timestamp('2020-07-27'))\n",
        "plt.ylabel('Numero de Casos')\n",
        "plt.title('Casos confirmados, muertes y recuperaciones entre 22/01/2020 - 27/07/2020')\n",
        "plt.legend(['Confirmados', 'Muertes', 'Recuperados'])\n",
        "plt.show()"
      ]
    },
    {
      "attachments": {},
      "cell_type": "markdown",
      "metadata": {},
      "source": [
        "A partir de este grafico se puede observa como, hasta el momento de la observación, la cantidad de casos confirmados, muertes y recuperaciones se encuentran en aumento. A su vez, se puede observar que la cantidad de recuperaciones es mayor a la de muertes. Sin embargo, la diferencia entre ambas es cada vez menor."
      ]
    },
    {
      "attachments": {},
      "cell_type": "markdown",
      "metadata": {},
      "source": [
        "## 3.2 Paises con mayor cantidad de casos confirmados"
      ]
    },
    {
      "attachments": {},
      "cell_type": "markdown",
      "metadata": {},
      "source": [
        "A continuación se analizarán los paises con mayor cantidad de casos confirmados. Para esto se optará por verificar los diez (10) paises con mayor cantidad de casos. Se presentarán tanto los valores confirmados como una graficación de los mismos para una mejor visualización."
      ]
    },
    {
      "cell_type": "code",
      "execution_count": 13,
      "metadata": {
        "tags": [],
        "trusted": true
      },
      "outputs": [],
      "source": [
        "covid_dataframe_by_Country = covid_df_filledNA.groupby(['País'])[['Confirmados', 'Muertes', 'Recuperados']].max().reset_index()"
      ]
    },
    {
      "cell_type": "code",
      "execution_count": 14,
      "metadata": {
        "tags": [],
        "trusted": true
      },
      "outputs": [],
      "source": [
        "covid_dataframe_by_Country.sort_values(by='Confirmados', ascending=False, inplace=True)"
      ]
    },
    {
      "cell_type": "code",
      "execution_count": 15,
      "metadata": {},
      "outputs": [],
      "source": [
        "Covid_dataframe_confirmed_country = covid_dataframe_by_Country[['País', 'Confirmados']]"
      ]
    },
    {
      "cell_type": "code",
      "execution_count": 16,
      "metadata": {
        "tags": []
      },
      "outputs": [
        {
          "data": {
            "text/html": [
              "<div>\n",
              "<style scoped>\n",
              "    .dataframe tbody tr th:only-of-type {\n",
              "        vertical-align: middle;\n",
              "    }\n",
              "\n",
              "    .dataframe tbody tr th {\n",
              "        vertical-align: top;\n",
              "    }\n",
              "\n",
              "    .dataframe thead th {\n",
              "        text-align: right;\n",
              "    }\n",
              "</style>\n",
              "<table border=\"1\" class=\"dataframe\">\n",
              "  <thead>\n",
              "    <tr style=\"text-align: right;\">\n",
              "      <th></th>\n",
              "      <th>País</th>\n",
              "      <th>Confirmados</th>\n",
              "    </tr>\n",
              "  </thead>\n",
              "  <tbody>\n",
              "    <tr>\n",
              "      <th>173</th>\n",
              "      <td>US</td>\n",
              "      <td>4290259</td>\n",
              "    </tr>\n",
              "    <tr>\n",
              "      <th>23</th>\n",
              "      <td>Brazil</td>\n",
              "      <td>2442375</td>\n",
              "    </tr>\n",
              "    <tr>\n",
              "      <th>79</th>\n",
              "      <td>India</td>\n",
              "      <td>1480073</td>\n",
              "    </tr>\n",
              "    <tr>\n",
              "      <th>138</th>\n",
              "      <td>Russia</td>\n",
              "      <td>816680</td>\n",
              "    </tr>\n",
              "    <tr>\n",
              "      <th>154</th>\n",
              "      <td>South Africa</td>\n",
              "      <td>452529</td>\n",
              "    </tr>\n",
              "    <tr>\n",
              "      <th>111</th>\n",
              "      <td>Mexico</td>\n",
              "      <td>395489</td>\n",
              "    </tr>\n",
              "    <tr>\n",
              "      <th>132</th>\n",
              "      <td>Peru</td>\n",
              "      <td>389717</td>\n",
              "    </tr>\n",
              "    <tr>\n",
              "      <th>35</th>\n",
              "      <td>Chile</td>\n",
              "      <td>347923</td>\n",
              "    </tr>\n",
              "    <tr>\n",
              "      <th>177</th>\n",
              "      <td>United Kingdom</td>\n",
              "      <td>300111</td>\n",
              "    </tr>\n",
              "    <tr>\n",
              "      <th>81</th>\n",
              "      <td>Iran</td>\n",
              "      <td>293606</td>\n",
              "    </tr>\n",
              "  </tbody>\n",
              "</table>\n",
              "</div>"
            ],
            "text/plain": [
              "               País  Confirmados\n",
              "173              US      4290259\n",
              "23           Brazil      2442375\n",
              "79            India      1480073\n",
              "138          Russia       816680\n",
              "154    South Africa       452529\n",
              "111          Mexico       395489\n",
              "132            Peru       389717\n",
              "35            Chile       347923\n",
              "177  United Kingdom       300111\n",
              "81             Iran       293606"
            ]
          },
          "execution_count": 16,
          "metadata": {},
          "output_type": "execute_result"
        }
      ],
      "source": [
        "Covid_dataframe_confirmed_country.head(10)"
      ]
    },
    {
      "cell_type": "code",
      "execution_count": 17,
      "metadata": {
        "tags": [],
        "trusted": true
      },
      "outputs": [
        {
          "data": {
            "image/png": "[encoded data removed]",
            "text/plain": [
              "<Figure size 720x432 with 1 Axes>"
            ]
          },
          "metadata": {
            "needs_background": "light"
          },
          "output_type": "display_data"
        }
      ],
      "source": [
        "plt.figure(figsize=(10,6))\n",
        "plt.bar(Covid_dataframe_confirmed_country['País'][:10], Covid_dataframe_confirmed_country['Confirmados'][:10])\n",
        "plt.yticks(range(0,1))\n",
        "plt.xlabel('País')\n",
        "plt.ylabel('Casos Confirmados')\n",
        "plt.title('Paises con mayor cantidad de casos confirmados')\n",
        "plt.tight_layout()\n",
        "plt.show()"
      ]
    },
    {
      "attachments": {},
      "cell_type": "markdown",
      "metadata": {},
      "source": [
        "A Partir de este grafico se puede observar que Estados Unidos es el pais con mayor cantidad de casos confirmados de Covid 19, con un total de 4290259 casos, seguido cercanamente por Brasil con un total de 2442375 casos registrados."
      ]
    },
    {
      "attachments": {},
      "cell_type": "markdown",
      "metadata": {},
      "source": [
        "## 3.3 Paises con mayor cantidad de muertes confirmadas"
      ]
    },
    {
      "attachments": {},
      "cell_type": "markdown",
      "metadata": {},
      "source": [
        "Por ultimo, se procederá a observar los paises con mayor cantidad de muertes confirmadas. Para esto se optará por verificar los diez (10) paises con mayor cantidad de muertes."
      ]
    },
    {
      "cell_type": "code",
      "execution_count": 18,
      "metadata": {
        "tags": []
      },
      "outputs": [],
      "source": [
        "covid_dataframe_by_Country.sort_values(by='Muertes',ascending=False, inplace=True)"
      ]
    },
    {
      "cell_type": "code",
      "execution_count": 19,
      "metadata": {},
      "outputs": [],
      "source": [
        "covid_dataframe_deaths_country = covid_dataframe_by_Country[['País', 'Muertes']]"
      ]
    },
    {
      "cell_type": "code",
      "execution_count": 20,
      "metadata": {
        "tags": []
      },
      "outputs": [
        {
          "data": {
            "text/html": [
              "<div>\n",
              "<style scoped>\n",
              "    .dataframe tbody tr th:only-of-type {\n",
              "        vertical-align: middle;\n",
              "    }\n",
              "\n",
              "    .dataframe tbody tr th {\n",
              "        vertical-align: top;\n",
              "    }\n",
              "\n",
              "    .dataframe thead th {\n",
              "        text-align: right;\n",
              "    }\n",
              "</style>\n",
              "<table border=\"1\" class=\"dataframe\">\n",
              "  <thead>\n",
              "    <tr style=\"text-align: right;\">\n",
              "      <th></th>\n",
              "      <th>País</th>\n",
              "      <th>Muertes</th>\n",
              "    </tr>\n",
              "  </thead>\n",
              "  <tbody>\n",
              "    <tr>\n",
              "      <th>173</th>\n",
              "      <td>US</td>\n",
              "      <td>148011</td>\n",
              "    </tr>\n",
              "    <tr>\n",
              "      <th>23</th>\n",
              "      <td>Brazil</td>\n",
              "      <td>87618</td>\n",
              "    </tr>\n",
              "    <tr>\n",
              "      <th>177</th>\n",
              "      <td>United Kingdom</td>\n",
              "      <td>45759</td>\n",
              "    </tr>\n",
              "    <tr>\n",
              "      <th>111</th>\n",
              "      <td>Mexico</td>\n",
              "      <td>44022</td>\n",
              "    </tr>\n",
              "    <tr>\n",
              "      <th>85</th>\n",
              "      <td>Italy</td>\n",
              "      <td>35112</td>\n",
              "    </tr>\n",
              "    <tr>\n",
              "      <th>79</th>\n",
              "      <td>India</td>\n",
              "      <td>33408</td>\n",
              "    </tr>\n",
              "    <tr>\n",
              "      <th>61</th>\n",
              "      <td>France</td>\n",
              "      <td>30096</td>\n",
              "    </tr>\n",
              "    <tr>\n",
              "      <th>157</th>\n",
              "      <td>Spain</td>\n",
              "      <td>28752</td>\n",
              "    </tr>\n",
              "    <tr>\n",
              "      <th>132</th>\n",
              "      <td>Peru</td>\n",
              "      <td>18418</td>\n",
              "    </tr>\n",
              "    <tr>\n",
              "      <th>81</th>\n",
              "      <td>Iran</td>\n",
              "      <td>15912</td>\n",
              "    </tr>\n",
              "  </tbody>\n",
              "</table>\n",
              "</div>"
            ],
            "text/plain": [
              "               País  Muertes\n",
              "173              US   148011\n",
              "23           Brazil    87618\n",
              "177  United Kingdom    45759\n",
              "111          Mexico    44022\n",
              "85            Italy    35112\n",
              "79            India    33408\n",
              "61           France    30096\n",
              "157           Spain    28752\n",
              "132            Peru    18418\n",
              "81             Iran    15912"
            ]
          },
          "execution_count": 20,
          "metadata": {},
          "output_type": "execute_result"
        }
      ],
      "source": [
        "covid_dataframe_deaths_country.head(10)"
      ]
    },
    {
      "cell_type": "code",
      "execution_count": 21,
      "metadata": {
        "tags": []
      },
      "outputs": [
        {
          "data": {
            "image/png": "[encoded data removed]",
            "text/plain": [
              "<Figure size 720x432 with 1 Axes>"
            ]
          },
          "metadata": {
            "needs_background": "light"
          },
          "output_type": "display_data"
        }
      ],
      "source": [
        "plt.figure(figsize=(10,6))\n",
        "plt.barh(covid_dataframe_deaths_country['País'][:10], covid_dataframe_deaths_country['Muertes'][:10],color='red')\n",
        "plt.xlabel('País')\n",
        "plt.ylabel('Muertes Confirmados')\n",
        "plt.title('Paises con mayor cantidad de casos confirmados')\n",
        "plt.gca().invert_yaxis()\n",
        "plt.tight_layout()\n",
        "plt.show()"
      ]
    },
    {
      "attachments": {},
      "cell_type": "markdown",
      "metadata": {},
      "source": [
        "A partir de este grafico se puede observar como Estados Unidos (148011) y Brasil (87618) continuan liderando el ranking de paises con mayor cantidad de muertes confirmadas. Sin embargo, se puede observar El Reino Unido se encuentra en el tercer lugar con un total de 45991 muertes confirmadas, mostrando una mayor correlación entre casos confirmados y muertes confirmadas."
      ]
    }
  ],
  "metadata": {
    "kernelspec": {
      "display_name": "Python 3",
      "language": "python",
      "name": "python3"
    },
    "language_info": {
      "codemirror_mode": {
        "name": "ipython",
        "version": 3
      },
      "file_extension": ".py",
      "mimetype": "text/x-python",
      "name": "python",
      "nbconvert_exporter": "python",
      "pygments_lexer": "ipython3",
      "version": "3.9.7"
    }
  },
  "nbformat": 4,
  "nbformat_minor": 4
}
